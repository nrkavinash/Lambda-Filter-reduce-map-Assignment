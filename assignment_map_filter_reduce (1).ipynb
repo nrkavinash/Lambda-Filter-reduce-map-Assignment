{
 "cells": [
  {
   "cell_type": "markdown",
   "id": "d8385f30-3a6e-435c-a23e-b80b8117585c",
   "metadata": {},
   "source": [
    "# Q1 Answer"
   ]
  },
  {
   "cell_type": "code",
   "execution_count": 25,
   "id": "eb29afe4-4b03-4802-a9a0-c6141e515744",
   "metadata": {},
   "outputs": [],
   "source": [
    "list1=[('Sachin Tendulkar', 34357), ('Ricky Ponting', 27483), ('Jack Kallis', 25534), ('Virat Kohli', 24936)] "
   ]
  },
  {
   "cell_type": "code",
   "execution_count": 27,
   "id": "872796f2-5e06-4999-8787-69022ee52352",
   "metadata": {},
   "outputs": [
    {
     "data": {
      "text/plain": [
       "[('Sachin Tendulkar', 34357),\n",
       " ('Ricky Ponting', 27483),\n",
       " ('Jack Kallis', 25534),\n",
       " ('Virat Kohli', 24936)]"
      ]
     },
     "execution_count": 27,
     "metadata": {},
     "output_type": "execute_result"
    }
   ],
   "source": [
    "list1"
   ]
  },
  {
   "cell_type": "code",
   "execution_count": 24,
   "id": "0d82870d-addc-468f-854d-98e292b12b1f",
   "metadata": {},
   "outputs": [
    {
     "name": "stdout",
     "output_type": "stream",
     "text": [
      "Sorting the List of Tuples:\n",
      "[('Virat Kohli', 24936), ('Jack Kallis', 25534), ('Ricky Ponting', 27483), ('Sachin Tendulkar', 34357)]\n"
     ]
    }
   ],
   "source": [
    "list1.sort(key = lambda x: x[1])\n",
    "print(\"Sorting the List of Tuples:\")\n",
    "print(list1)"
   ]
  },
  {
   "cell_type": "markdown",
   "id": "afcf6583-6d34-4dde-bec9-169207ef44fc",
   "metadata": {},
   "source": [
    "# Q2 Answer"
   ]
  },
  {
   "cell_type": "code",
   "execution_count": 18,
   "id": "81adb5ea-bfe1-4f9b-8dd1-6690531baca7",
   "metadata": {},
   "outputs": [
    {
     "name": "stdout",
     "output_type": "stream",
     "text": [
      "[1, 4, 9, 16, 25, 36, 49, 64, 81, 100]\n"
     ]
    }
   ],
   "source": [
    "test1=[1, 2, 3, 4, 5, 6, 7, 8, 9, 10]\n",
    "test1=list(map(lambda x : x**2 , test1))\n",
    "print(test1)"
   ]
  },
  {
   "cell_type": "markdown",
   "id": "de8e8942-c515-4e51-bab1-81b2a7e01f85",
   "metadata": {},
   "source": [
    "# Q3 Answer"
   ]
  },
  {
   "cell_type": "code",
   "execution_count": 19,
   "id": "84978fc3-4477-43a9-9fc9-d897a297b418",
   "metadata": {},
   "outputs": [],
   "source": [
    "Given_String=[1, 2, 3, 4, 5, 6, 7, 8, 9, 10]\n",
    "tuple1=tuple(Given_String)"
   ]
  },
  {
   "cell_type": "code",
   "execution_count": 20,
   "id": "26a8448a-6acc-4478-9c2d-891b876a6713",
   "metadata": {},
   "outputs": [
    {
     "data": {
      "text/plain": [
       "(1, 2, 3, 4, 5, 6, 7, 8, 9, 10)"
      ]
     },
     "execution_count": 20,
     "metadata": {},
     "output_type": "execute_result"
    }
   ],
   "source": [
    "tuple1"
   ]
  },
  {
   "cell_type": "code",
   "execution_count": 21,
   "id": "2e946c58-632b-4012-9dfb-d09f46f33396",
   "metadata": {},
   "outputs": [],
   "source": [
    "str1=tuple(map(lambda x:str(x),tuple1))"
   ]
  },
  {
   "cell_type": "code",
   "execution_count": 22,
   "id": "17476bbb-558c-4386-b8a7-84fc5749f8af",
   "metadata": {},
   "outputs": [
    {
     "data": {
      "text/plain": [
       "('1', '2', '3', '4', '5', '6', '7', '8', '9', '10')"
      ]
     },
     "execution_count": 22,
     "metadata": {},
     "output_type": "execute_result"
    }
   ],
   "source": [
    "str1"
   ]
  },
  {
   "cell_type": "code",
   "execution_count": 23,
   "id": "8191ea9f-b3ae-4df8-b227-aa850415098b",
   "metadata": {},
   "outputs": [
    {
     "name": "stdout",
     "output_type": "stream",
     "text": [
      "('1', '2', '3', '4', '5', '6', '7', '8', '9', '10')\n"
     ]
    }
   ],
   "source": [
    "Expected_output = str1\n",
    "print(Expected_output)"
   ]
  },
  {
   "cell_type": "markdown",
   "id": "dfbd82ba-b279-4f81-8108-e54173b5c6fa",
   "metadata": {},
   "source": [
    "# Q4 Answer"
   ]
  },
  {
   "cell_type": "code",
   "execution_count": 4,
   "id": "32f37c0b-1dcd-48e3-be19-dad0919003a1",
   "metadata": {},
   "outputs": [
    {
     "name": "stdout",
     "output_type": "stream",
     "text": [
      "[1, 2, 3, 4, 5, 6, 7, 8, 9, 10, 11, 12, 13, 14, 15, 16, 17, 18, 19, 20, 21, 22, 23, 24]\n"
     ]
    }
   ],
   "source": [
    "nums = range(1,25)\n",
    "print(list(nums))\n",
    "numbers = list(nums)"
   ]
  },
  {
   "cell_type": "markdown",
   "id": "2c622b04-efb3-40fa-8147-2c1ea0b293a3",
   "metadata": {},
   "source": [
    "numbers"
   ]
  },
  {
   "cell_type": "code",
   "execution_count": 5,
   "id": "ff2560d5-c76c-4f01-a83d-6d326f3cf112",
   "metadata": {},
   "outputs": [
    {
     "data": {
      "text/plain": [
       "[1,\n",
       " 2,\n",
       " 3,\n",
       " 4,\n",
       " 5,\n",
       " 6,\n",
       " 7,\n",
       " 8,\n",
       " 9,\n",
       " 10,\n",
       " 11,\n",
       " 12,\n",
       " 13,\n",
       " 14,\n",
       " 15,\n",
       " 16,\n",
       " 17,\n",
       " 18,\n",
       " 19,\n",
       " 20,\n",
       " 21,\n",
       " 22,\n",
       " 23,\n",
       " 24]"
      ]
     },
     "execution_count": 5,
     "metadata": {},
     "output_type": "execute_result"
    }
   ],
   "source": [
    "numbers\n"
   ]
  },
  {
   "cell_type": "code",
   "execution_count": 6,
   "id": "3f3271b4-21b4-4e0c-b4d6-4345a97210ea",
   "metadata": {},
   "outputs": [],
   "source": [
    "from functools import reduce"
   ]
  },
  {
   "cell_type": "code",
   "execution_count": 8,
   "id": "a40c8ea7-c578-4e80-b51e-0f4459158e9f",
   "metadata": {},
   "outputs": [],
   "source": [
    "solution=reduce(lambda x,y: x+y,numbers)"
   ]
  },
  {
   "cell_type": "code",
   "execution_count": 9,
   "id": "636a2fbe-f634-4b9c-8b54-a6943c091d70",
   "metadata": {},
   "outputs": [
    {
     "data": {
      "text/plain": [
       "300"
      ]
     },
     "execution_count": 9,
     "metadata": {},
     "output_type": "execute_result"
    }
   ],
   "source": [
    "solution"
   ]
  },
  {
   "cell_type": "markdown",
   "id": "e62be7bf-292b-4ecd-a902-a3b5cbe9ab6a",
   "metadata": {},
   "source": [
    "# Q5 Answer"
   ]
  },
  {
   "cell_type": "code",
   "execution_count": 11,
   "id": "d02c2b45-0542-4c22-be76-507cfee3897c",
   "metadata": {},
   "outputs": [],
   "source": [
    "Given=[2, 3, 6, 9, 27, 60, 90, 120, 55, 46]"
   ]
  },
  {
   "cell_type": "code",
   "execution_count": 12,
   "id": "796e1eda-17ef-4ebf-be78-abb102b5773b",
   "metadata": {},
   "outputs": [
    {
     "data": {
      "text/plain": [
       "[2, 3, 6, 9, 27, 60, 90, 120, 55, 46]"
      ]
     },
     "execution_count": 12,
     "metadata": {},
     "output_type": "execute_result"
    }
   ],
   "source": [
    "Given"
   ]
  },
  {
   "cell_type": "code",
   "execution_count": 13,
   "id": "3ceab74a-fda8-4f02-8e48-ac25a522e9fb",
   "metadata": {},
   "outputs": [
    {
     "data": {
      "text/plain": [
       "[2, 6, 60, 90, 120, 46]"
      ]
     },
     "execution_count": 13,
     "metadata": {},
     "output_type": "execute_result"
    }
   ],
   "source": [
    "list(filter(lambda x : x%2 ==0,Given))"
   ]
  },
  {
   "cell_type": "code",
   "execution_count": 14,
   "id": "a469440f-60b5-4042-8c07-2cb835cec6fb",
   "metadata": {},
   "outputs": [
    {
     "data": {
      "text/plain": [
       "[3, 6, 9, 27, 60, 90, 120]"
      ]
     },
     "execution_count": 14,
     "metadata": {},
     "output_type": "execute_result"
    }
   ],
   "source": [
    "list(filter(lambda x : x%3 ==0,Given))"
   ]
  },
  {
   "cell_type": "markdown",
   "id": "a3675bf6-e841-4fdd-9871-d413fa643d76",
   "metadata": {},
   "source": [
    "# Q6 Answer"
   ]
  },
  {
   "cell_type": "code",
   "execution_count": 15,
   "id": "976e07af-9831-4ad9-88ec-657f86dadc61",
   "metadata": {},
   "outputs": [
    {
     "name": "stdout",
     "output_type": "stream",
     "text": [
      "List of palindromes:\n",
      "['php', 'aba', 'radar', 'level']\n"
     ]
    }
   ],
   "source": [
    "texts = [\"python\", \"php\", \"aba\", \"radar\", \"level\"]"
   ]
  },
  {
   "cell_type": "code",
   "execution_count": 30,
   "id": "d1f0aa1b-a9df-4427-8744-a02c688af795",
   "metadata": {},
   "outputs": [
    {
     "name": "stdout",
     "output_type": "stream",
     "text": [
      "['php', 'aba', 'radar', 'level']\n"
     ]
    }
   ],
   "source": [
    "palindromes = list(filter(lambda x: (x == \"\".join(reversed(x))), texts)) \n",
    "print(palindromes)"
   ]
  },
  {
   "cell_type": "code",
   "execution_count": null,
   "id": "095dee9d-f400-4e9d-a15f-10a30d25f85c",
   "metadata": {},
   "outputs": [],
   "source": []
  }
 ],
 "metadata": {
  "kernelspec": {
   "display_name": "Python 3 (ipykernel)",
   "language": "python",
   "name": "python3"
  },
  "language_info": {
   "codemirror_mode": {
    "name": "ipython",
    "version": 3
   },
   "file_extension": ".py",
   "mimetype": "text/x-python",
   "name": "python",
   "nbconvert_exporter": "python",
   "pygments_lexer": "ipython3",
   "version": "3.10.8"
  }
 },
 "nbformat": 4,
 "nbformat_minor": 5
}
